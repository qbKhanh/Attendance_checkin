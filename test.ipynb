{
 "cells": [
  {
   "cell_type": "code",
   "execution_count": 5,
   "metadata": {},
   "outputs": [
    {
     "data": {
      "text/plain": [
       "array(['Bui Quang Minh', 'Bui Tien Dung', 'Dinh Quoc Dat',\n",
       "       'Duong Minh Hoang', 'Duong Quoc Khanh', 'Ho Viet Dung',\n",
       "       'Hoang Anh Duc', 'Hoang Do Khai', 'Hoang Trung Kien', 'Hung Phia',\n",
       "       'Khuat Duy Nhat Minh', 'Le Do Huy', 'Le Duc Hoan',\n",
       "       'Nguyen Duc Huy', 'Nguyen Duc Minh', 'Nguyen Hai Dang',\n",
       "       'Nguyen Hai Duong', 'Nguyen Hoang Giang Anh', 'Nguyen Huy Tuan',\n",
       "       'Nguyen Minh Chau', 'Nguyen Xuan Huy'], dtype='<U22')"
      ]
     },
     "execution_count": 5,
     "metadata": {},
     "output_type": "execute_result"
    }
   ],
   "source": [
    "label.classes_"
   ]
  },
  {
   "cell_type": "code",
   "execution_count": null,
   "metadata": {},
   "outputs": [],
   "source": [
    "[[0.01298527 0.04020836 0.00824292 0.04882114 0.01954541 0.25908769\n",
    "  0.00873961 0.03752574 0.07715713 0.01580615 0.031805   0.01133421\n",
    "  0.02700139 0.2639254  0.01625118 0.03754499 0.01303234 0.00935117\n",
    "  0.01309723 0.03518402 0.01335363]]"
   ]
  },
  {
   "cell_type": "code",
   "execution_count": 10,
   "metadata": {},
   "outputs": [
    {
     "name": "stdout",
     "output_type": "stream",
     "text": [
      "Bui Quang Minh\n"
     ]
    }
   ],
   "source": [
    "import numpy as np\n",
    "self.lst_name = ['Bui Quang Minh', 'Bui Tien Dung', 'Dinh Quoc Dat',\n",
    "       'Duong Minh Hoang', 'Duong Quoc Khanh', 'Ho Viet Dung',\n",
    "       'Hoang Anh Duc', 'Hoang Do Khai', 'Hoang Trung Kien', 'Hung Phia',\n",
    "       'Khuat Duy Nhat Minh', 'Le Do Huy', 'Le Duc Hoan',\n",
    "       'Nguyen Duc Huy', 'Nguyen Duc Minh', 'Nguyen Hai Dang',\n",
    "       'Nguyen Hai Duong', 'Nguyen Hoang Giang Anh', 'Nguyen Huy Tuan',\n",
    "       'Nguyen Minh Chau', 'Nguyen Xuan Huy']\n",
    "a = [[9,5,6,4,3]]\n",
    "\n",
    "print(lst_name[np.argmax(a[0])])"
   ]
  },
  {
   "attachments": {},
   "cell_type": "markdown",
   "metadata": {},
   "source": [
    "sai\n",
    "Nguyen Duc Huy\n",
    "26\n",
    "\n"
   ]
  },
  {
   "cell_type": "code",
   "execution_count": 2,
   "metadata": {},
   "outputs": [
    {
     "name": "stdout",
     "output_type": "stream",
     "text": [
      "2023-03-23 02:45:24.794303\n"
     ]
    }
   ],
   "source": [
    "from datetime import datetime\n",
    "a = datetime.now()\n",
    "print(a)"
   ]
  },
  {
   "cell_type": "code",
   "execution_count": 3,
   "metadata": {},
   "outputs": [
    {
     "ename": "SyntaxError",
     "evalue": "invalid syntax (3026772013.py, line 1)",
     "output_type": "error",
     "traceback": [
      "\u001b[1;36m  Input \u001b[1;32mIn [3]\u001b[1;36m\u001b[0m\n\u001b[1;33m    b = a.strftime(%h-%m-%s)\u001b[0m\n\u001b[1;37m                   ^\u001b[0m\n\u001b[1;31mSyntaxError\u001b[0m\u001b[1;31m:\u001b[0m invalid syntax\n"
     ]
    }
   ],
   "source": [
    "b = a.strftime(%h-%m-%s)\n",
    "b"
   ]
  },
  {
   "cell_type": "code",
   "execution_count": 5,
   "metadata": {},
   "outputs": [
    {
     "name": "stderr",
     "output_type": "stream",
     "text": [
      "C:\\Users\\ADMIN\\AppData\\Local\\Temp\\ipykernel_28516\\1121594938.py:6: FutureWarning: The frame.append method is deprecated and will be removed from pandas in a future version. Use pandas.concat instead.\n",
      "  df = df.append(new_row, ignore_index=True)\n"
     ]
    }
   ],
   "source": [
    "import pandas as pd\n",
    "from unidecode import unidecode\n",
    "\n",
    "df = pd.read_csv('data_format.csv')\n",
    "new_row = {'roll_no': 'Sarah', 'Name': 35, 'Status': 'Absent', 'Time': '-', 'Note': '-'}\n",
    "df = df.append(new_row, ignore_index=True)"
   ]
  },
  {
   "cell_type": "code",
   "execution_count": 6,
   "metadata": {},
   "outputs": [
    {
     "data": {
      "text/html": [
       "<div>\n",
       "<style scoped>\n",
       "    .dataframe tbody tr th:only-of-type {\n",
       "        vertical-align: middle;\n",
       "    }\n",
       "\n",
       "    .dataframe tbody tr th {\n",
       "        vertical-align: top;\n",
       "    }\n",
       "\n",
       "    .dataframe thead th {\n",
       "        text-align: right;\n",
       "    }\n",
       "</style>\n",
       "<table border=\"1\" class=\"dataframe\">\n",
       "  <thead>\n",
       "    <tr style=\"text-align: right;\">\n",
       "      <th></th>\n",
       "      <th>roll_no</th>\n",
       "      <th>Name</th>\n",
       "      <th>Status</th>\n",
       "      <th>Time</th>\n",
       "      <th>Note</th>\n",
       "    </tr>\n",
       "  </thead>\n",
       "  <tbody>\n",
       "    <tr>\n",
       "      <th>0</th>\n",
       "      <td>HE161360</td>\n",
       "      <td>Nguyen Dang Anh Vu</td>\n",
       "      <td>Absent</td>\n",
       "      <td>-</td>\n",
       "      <td>-</td>\n",
       "    </tr>\n",
       "    <tr>\n",
       "      <th>1</th>\n",
       "      <td>HE161463</td>\n",
       "      <td>Nguyen Thanh Cao</td>\n",
       "      <td>Absent</td>\n",
       "      <td>-</td>\n",
       "      <td>-</td>\n",
       "    </tr>\n",
       "    <tr>\n",
       "      <th>2</th>\n",
       "      <td>HE163767</td>\n",
       "      <td>Nguyen Quang Huy</td>\n",
       "      <td>Absent</td>\n",
       "      <td>-</td>\n",
       "      <td>-</td>\n",
       "    </tr>\n",
       "    <tr>\n",
       "      <th>3</th>\n",
       "      <td>HE170148</td>\n",
       "      <td>Pham Hoang Phuong</td>\n",
       "      <td>Absent</td>\n",
       "      <td>-</td>\n",
       "      <td>-</td>\n",
       "    </tr>\n",
       "    <tr>\n",
       "      <th>4</th>\n",
       "      <td>HE170418</td>\n",
       "      <td>Nguyen Hai Duong</td>\n",
       "      <td>Absent</td>\n",
       "      <td>-</td>\n",
       "      <td>-</td>\n",
       "    </tr>\n",
       "    <tr>\n",
       "      <th>5</th>\n",
       "      <td>HE170472</td>\n",
       "      <td>Le Do Huy</td>\n",
       "      <td>Absent</td>\n",
       "      <td>-</td>\n",
       "      <td>-</td>\n",
       "    </tr>\n",
       "    <tr>\n",
       "      <th>6</th>\n",
       "      <td>HE170594</td>\n",
       "      <td>Hoang Do Khai</td>\n",
       "      <td>Absent</td>\n",
       "      <td>-</td>\n",
       "      <td>-</td>\n",
       "    </tr>\n",
       "    <tr>\n",
       "      <th>7</th>\n",
       "      <td>HE170596</td>\n",
       "      <td>Nguyen Hai Dang</td>\n",
       "      <td>Absent</td>\n",
       "      <td>-</td>\n",
       "      <td>-</td>\n",
       "    </tr>\n",
       "    <tr>\n",
       "      <th>8</th>\n",
       "      <td>HE170696</td>\n",
       "      <td>Nguyen Tat Thanh Dat</td>\n",
       "      <td>Absent</td>\n",
       "      <td>-</td>\n",
       "      <td>-</td>\n",
       "    </tr>\n",
       "    <tr>\n",
       "      <th>9</th>\n",
       "      <td>HE170744</td>\n",
       "      <td>Duong Thanh Nam</td>\n",
       "      <td>Absent</td>\n",
       "      <td>-</td>\n",
       "      <td>-</td>\n",
       "    </tr>\n",
       "    <tr>\n",
       "      <th>10</th>\n",
       "      <td>HE170746</td>\n",
       "      <td>Le Duc Hoan</td>\n",
       "      <td>Absent</td>\n",
       "      <td>-</td>\n",
       "      <td>-</td>\n",
       "    </tr>\n",
       "    <tr>\n",
       "      <th>11</th>\n",
       "      <td>HE170769</td>\n",
       "      <td>Nguyen Huy Tuan</td>\n",
       "      <td>Absent</td>\n",
       "      <td>-</td>\n",
       "      <td>-</td>\n",
       "    </tr>\n",
       "    <tr>\n",
       "      <th>12</th>\n",
       "      <td>HE170770</td>\n",
       "      <td>Hoang Trung Kien</td>\n",
       "      <td>Absent</td>\n",
       "      <td>-</td>\n",
       "      <td>-</td>\n",
       "    </tr>\n",
       "    <tr>\n",
       "      <th>13</th>\n",
       "      <td>HE170952</td>\n",
       "      <td>Bui Quang Minh</td>\n",
       "      <td>Absent</td>\n",
       "      <td>-</td>\n",
       "      <td>-</td>\n",
       "    </tr>\n",
       "    <tr>\n",
       "      <th>14</th>\n",
       "      <td>HE171047</td>\n",
       "      <td>Tran Ba Thanh</td>\n",
       "      <td>Absent</td>\n",
       "      <td>-</td>\n",
       "      <td>-</td>\n",
       "    </tr>\n",
       "    <tr>\n",
       "      <th>15</th>\n",
       "      <td>HE171106</td>\n",
       "      <td>Nguyen Xuan Huy</td>\n",
       "      <td>Absent</td>\n",
       "      <td>-</td>\n",
       "      <td>-</td>\n",
       "    </tr>\n",
       "    <tr>\n",
       "      <th>16</th>\n",
       "      <td>HE171219</td>\n",
       "      <td>Nguyen Nhat Huy</td>\n",
       "      <td>Absent</td>\n",
       "      <td>-</td>\n",
       "      <td>-</td>\n",
       "    </tr>\n",
       "    <tr>\n",
       "      <th>17</th>\n",
       "      <td>HE171234</td>\n",
       "      <td>Dinh Quoc Dat</td>\n",
       "      <td>Absent</td>\n",
       "      <td>-</td>\n",
       "      <td>-</td>\n",
       "    </tr>\n",
       "    <tr>\n",
       "      <th>18</th>\n",
       "      <td>HE171244</td>\n",
       "      <td>Nguyen Duc Minh</td>\n",
       "      <td>Absent</td>\n",
       "      <td>-</td>\n",
       "      <td>-</td>\n",
       "    </tr>\n",
       "    <tr>\n",
       "      <th>19</th>\n",
       "      <td>HE171252</td>\n",
       "      <td>Duong Minh Hoang</td>\n",
       "      <td>Absent</td>\n",
       "      <td>-</td>\n",
       "      <td>-</td>\n",
       "    </tr>\n",
       "    <tr>\n",
       "      <th>20</th>\n",
       "      <td>HE171257</td>\n",
       "      <td>Chu Minh Quang</td>\n",
       "      <td>Absent</td>\n",
       "      <td>-</td>\n",
       "      <td>-</td>\n",
       "    </tr>\n",
       "    <tr>\n",
       "      <th>21</th>\n",
       "      <td>HE171281</td>\n",
       "      <td>Nguyen Duc Huy</td>\n",
       "      <td>Absent</td>\n",
       "      <td>-</td>\n",
       "      <td>-</td>\n",
       "    </tr>\n",
       "    <tr>\n",
       "      <th>22</th>\n",
       "      <td>HE171671</td>\n",
       "      <td>Duong Quoc Khanh</td>\n",
       "      <td>Absent</td>\n",
       "      <td>-</td>\n",
       "      <td>-</td>\n",
       "    </tr>\n",
       "    <tr>\n",
       "      <th>23</th>\n",
       "      <td>HE171929</td>\n",
       "      <td>Nguyen Minh Chau</td>\n",
       "      <td>Absent</td>\n",
       "      <td>-</td>\n",
       "      <td>-</td>\n",
       "    </tr>\n",
       "    <tr>\n",
       "      <th>24</th>\n",
       "      <td>HE172821</td>\n",
       "      <td>Nguyen Hoang Giang Anh</td>\n",
       "      <td>Absent</td>\n",
       "      <td>-</td>\n",
       "      <td>-</td>\n",
       "    </tr>\n",
       "    <tr>\n",
       "      <th>25</th>\n",
       "      <td>HE173502</td>\n",
       "      <td>Khuat Duy Nhat Minh</td>\n",
       "      <td>Absent</td>\n",
       "      <td>-</td>\n",
       "      <td>-</td>\n",
       "    </tr>\n",
       "    <tr>\n",
       "      <th>26</th>\n",
       "      <td>HE176220</td>\n",
       "      <td>Hoang Anh Duc</td>\n",
       "      <td>Absent</td>\n",
       "      <td>-</td>\n",
       "      <td>-</td>\n",
       "    </tr>\n",
       "    <tr>\n",
       "      <th>27</th>\n",
       "      <td>HE179008</td>\n",
       "      <td>Ho Viet Dung</td>\n",
       "      <td>Absent</td>\n",
       "      <td>-</td>\n",
       "      <td>-</td>\n",
       "    </tr>\n",
       "    <tr>\n",
       "      <th>28</th>\n",
       "      <td>Sarah</td>\n",
       "      <td>35</td>\n",
       "      <td>Absent</td>\n",
       "      <td>-</td>\n",
       "      <td>-</td>\n",
       "    </tr>\n",
       "  </tbody>\n",
       "</table>\n",
       "</div>"
      ],
      "text/plain": [
       "     roll_no                    Name  Status Time Note\n",
       "0   HE161360      Nguyen Dang Anh Vu  Absent    -    -\n",
       "1   HE161463        Nguyen Thanh Cao  Absent    -    -\n",
       "2   HE163767        Nguyen Quang Huy  Absent    -    -\n",
       "3   HE170148       Pham Hoang Phuong  Absent    -    -\n",
       "4   HE170418        Nguyen Hai Duong  Absent    -    -\n",
       "5   HE170472               Le Do Huy  Absent    -    -\n",
       "6   HE170594           Hoang Do Khai  Absent    -    -\n",
       "7   HE170596         Nguyen Hai Dang  Absent    -    -\n",
       "8   HE170696    Nguyen Tat Thanh Dat  Absent    -    -\n",
       "9   HE170744         Duong Thanh Nam  Absent    -    -\n",
       "10  HE170746             Le Duc Hoan  Absent    -    -\n",
       "11  HE170769         Nguyen Huy Tuan  Absent    -    -\n",
       "12  HE170770        Hoang Trung Kien  Absent    -    -\n",
       "13  HE170952          Bui Quang Minh  Absent    -    -\n",
       "14  HE171047           Tran Ba Thanh  Absent    -    -\n",
       "15  HE171106         Nguyen Xuan Huy  Absent    -    -\n",
       "16  HE171219         Nguyen Nhat Huy  Absent    -    -\n",
       "17  HE171234           Dinh Quoc Dat  Absent    -    -\n",
       "18  HE171244         Nguyen Duc Minh  Absent    -    -\n",
       "19  HE171252        Duong Minh Hoang  Absent    -    -\n",
       "20  HE171257          Chu Minh Quang  Absent    -    -\n",
       "21  HE171281          Nguyen Duc Huy  Absent    -    -\n",
       "22  HE171671        Duong Quoc Khanh  Absent    -    -\n",
       "23  HE171929        Nguyen Minh Chau  Absent    -    -\n",
       "24  HE172821  Nguyen Hoang Giang Anh  Absent    -    -\n",
       "25  HE173502     Khuat Duy Nhat Minh  Absent    -    -\n",
       "26  HE176220           Hoang Anh Duc  Absent    -    -\n",
       "27  HE179008            Ho Viet Dung  Absent    -    -\n",
       "28     Sarah                      35  Absent    -    -"
      ]
     },
     "execution_count": 6,
     "metadata": {},
     "output_type": "execute_result"
    }
   ],
   "source": [
    "df"
   ]
  },
  {
   "cell_type": "code",
   "execution_count": 25,
   "metadata": {},
   "outputs": [
    {
     "name": "stdout",
     "output_type": "stream",
     "text": [
      "['Nguyen Dang Anh Vu', 'Nguyen Thanh Cao', 'Nguyen Quang Huy', 'Pham Hoang Phuong', 'Nguyen Hai Duong', 'Le Do Huy', 'Hoang Do Khai', 'Nguyen Hai Dang', 'Nguyen Tat Thanh Dat', 'Duong Thanh Nam', 'Le Duc Hoan', 'Nguyen Huy Tuan', 'Hoang Trung Kien', 'Bui Quang Minh', 'Tran Ba Thanh', 'Nguyen Xuan Huy', 'Nguyen Nhat Huy', 'Dinh Quoc Dat', 'Nguyen Duc Minh', 'Duong Minh Hoang', 'Chu Minh Quang', 'Nguyen Duc Huy', 'Duong Quoc Khanh', 'Nguyen Minh Chau', 'Nguyen Hoang Giang Anh', 'Khuat Duy Nhat Minh', 'Hoang Anh Duc', 'Ho Viet Dung']\n",
      "21\n"
     ]
    }
   ],
   "source": [
    "student_in_class = df['Name'].tolist()\n",
    "print(student_in_class)\n",
    "student_in_class.pop(student_in_class.index(\"Nguyen Duc Huy\"))\n",
    "# student_in_class.pop(1)\n",
    "\n",
    "# print(student_in_class)"
   ]
  },
  {
   "cell_type": "code",
   "execution_count": 8,
   "metadata": {},
   "outputs": [
    {
     "data": {
      "text/plain": [
       "roll_no              HE161360\n",
       "Name       Nguyễn Đăng Anh Vũ\n",
       "Status                      -\n",
       "Time                        -\n",
       "Note                        -\n",
       "Name: 0, dtype: object"
      ]
     },
     "execution_count": 8,
     "metadata": {},
     "output_type": "execute_result"
    }
   ],
   "source": [
    "df.iloc[0]"
   ]
  },
  {
   "cell_type": "code",
   "execution_count": 32,
   "metadata": {},
   "outputs": [
    {
     "data": {
      "text/plain": [
       "'03-23'"
      ]
     },
     "execution_count": 32,
     "metadata": {},
     "output_type": "execute_result"
    }
   ],
   "source": [
    "import datetime\n",
    "now = datetime.datetime.now()\n",
    "a = now.strftime(\"%m-%d\")\n",
    "a"
   ]
  },
  {
   "cell_type": "code",
   "execution_count": 6,
   "metadata": {},
   "outputs": [
    {
     "name": "stdout",
     "output_type": "stream",
     "text": [
      "1/03,2/03,3/03,4/03,5/03,6/03,7/03,8/03,9/03,10/03,11/03,12/03,13/03,14/03,15/03,16/03,17/03,18/03,19/03,20/03,21/03,22/03,23/03,24/03,25/03,26/03,27/03,28/03,29/03,30/03,31/03,"
     ]
    }
   ],
   "source": [
    "for i in range(1,32):\n",
    "    print(f'{i}/03',end=',')"
   ]
  },
  {
   "cell_type": "code",
   "execution_count": 28,
   "metadata": {},
   "outputs": [],
   "source": [
    "import pandas as pd\n",
    "\n",
    "df = pd.read_csv('data_format.csv')"
   ]
  },
  {
   "cell_type": "code",
   "execution_count": 33,
   "metadata": {},
   "outputs": [
    {
     "ename": "KeyError",
     "evalue": "3",
     "output_type": "error",
     "traceback": [
      "\u001b[1;31m---------------------------------------------------------------------------\u001b[0m",
      "\u001b[1;31mKeyError\u001b[0m                                  Traceback (most recent call last)",
      "File \u001b[1;32md:\\Anaconda\\lib\\site-packages\\pandas\\core\\indexes\\base.py:3621\u001b[0m, in \u001b[0;36mIndex.get_loc\u001b[1;34m(self, key, method, tolerance)\u001b[0m\n\u001b[0;32m   3620\u001b[0m \u001b[39mtry\u001b[39;00m:\n\u001b[1;32m-> 3621\u001b[0m     \u001b[39mreturn\u001b[39;00m \u001b[39mself\u001b[39;49m\u001b[39m.\u001b[39;49m_engine\u001b[39m.\u001b[39;49mget_loc(casted_key)\n\u001b[0;32m   3622\u001b[0m \u001b[39mexcept\u001b[39;00m \u001b[39mKeyError\u001b[39;00m \u001b[39mas\u001b[39;00m err:\n",
      "File \u001b[1;32md:\\Anaconda\\lib\\site-packages\\pandas\\_libs\\index.pyx:136\u001b[0m, in \u001b[0;36mpandas._libs.index.IndexEngine.get_loc\u001b[1;34m()\u001b[0m\n",
      "File \u001b[1;32md:\\Anaconda\\lib\\site-packages\\pandas\\_libs\\index.pyx:163\u001b[0m, in \u001b[0;36mpandas._libs.index.IndexEngine.get_loc\u001b[1;34m()\u001b[0m\n",
      "File \u001b[1;32mpandas\\_libs\\hashtable_class_helper.pxi:5198\u001b[0m, in \u001b[0;36mpandas._libs.hashtable.PyObjectHashTable.get_item\u001b[1;34m()\u001b[0m\n",
      "File \u001b[1;32mpandas\\_libs\\hashtable_class_helper.pxi:5206\u001b[0m, in \u001b[0;36mpandas._libs.hashtable.PyObjectHashTable.get_item\u001b[1;34m()\u001b[0m\n",
      "\u001b[1;31mKeyError\u001b[0m: 3",
      "\nThe above exception was the direct cause of the following exception:\n",
      "\u001b[1;31mKeyError\u001b[0m                                  Traceback (most recent call last)",
      "\u001b[1;32md:\\FPT-Spring23\\CPV301\\Assignment\\test.ipynb Cell 13\u001b[0m in \u001b[0;36m<cell line: 1>\u001b[1;34m()\u001b[0m\n\u001b[1;32m----> <a href='vscode-notebook-cell:/d%3A/FPT-Spring23/CPV301/Assignment/test.ipynb#X15sZmlsZQ%3D%3D?line=0'>1</a>\u001b[0m df[df[\u001b[39m'\u001b[39;49m\u001b[39mName\u001b[39;49m\u001b[39m'\u001b[39;49m] \u001b[39m==\u001b[39;49m \u001b[39m'\u001b[39;49m\u001b[39mHoang Trung Kien\u001b[39;49m\u001b[39m'\u001b[39;49m][\u001b[39m3\u001b[39;49m]\n",
      "File \u001b[1;32md:\\Anaconda\\lib\\site-packages\\pandas\\core\\frame.py:3505\u001b[0m, in \u001b[0;36mDataFrame.__getitem__\u001b[1;34m(self, key)\u001b[0m\n\u001b[0;32m   3503\u001b[0m \u001b[39mif\u001b[39;00m \u001b[39mself\u001b[39m\u001b[39m.\u001b[39mcolumns\u001b[39m.\u001b[39mnlevels \u001b[39m>\u001b[39m \u001b[39m1\u001b[39m:\n\u001b[0;32m   3504\u001b[0m     \u001b[39mreturn\u001b[39;00m \u001b[39mself\u001b[39m\u001b[39m.\u001b[39m_getitem_multilevel(key)\n\u001b[1;32m-> 3505\u001b[0m indexer \u001b[39m=\u001b[39m \u001b[39mself\u001b[39;49m\u001b[39m.\u001b[39;49mcolumns\u001b[39m.\u001b[39;49mget_loc(key)\n\u001b[0;32m   3506\u001b[0m \u001b[39mif\u001b[39;00m is_integer(indexer):\n\u001b[0;32m   3507\u001b[0m     indexer \u001b[39m=\u001b[39m [indexer]\n",
      "File \u001b[1;32md:\\Anaconda\\lib\\site-packages\\pandas\\core\\indexes\\base.py:3623\u001b[0m, in \u001b[0;36mIndex.get_loc\u001b[1;34m(self, key, method, tolerance)\u001b[0m\n\u001b[0;32m   3621\u001b[0m     \u001b[39mreturn\u001b[39;00m \u001b[39mself\u001b[39m\u001b[39m.\u001b[39m_engine\u001b[39m.\u001b[39mget_loc(casted_key)\n\u001b[0;32m   3622\u001b[0m \u001b[39mexcept\u001b[39;00m \u001b[39mKeyError\u001b[39;00m \u001b[39mas\u001b[39;00m err:\n\u001b[1;32m-> 3623\u001b[0m     \u001b[39mraise\u001b[39;00m \u001b[39mKeyError\u001b[39;00m(key) \u001b[39mfrom\u001b[39;00m \u001b[39merr\u001b[39;00m\n\u001b[0;32m   3624\u001b[0m \u001b[39mexcept\u001b[39;00m \u001b[39mTypeError\u001b[39;00m:\n\u001b[0;32m   3625\u001b[0m     \u001b[39m# If we have a listlike key, _check_indexing_error will raise\u001b[39;00m\n\u001b[0;32m   3626\u001b[0m     \u001b[39m#  InvalidIndexError. Otherwise we fall through and re-raise\u001b[39;00m\n\u001b[0;32m   3627\u001b[0m     \u001b[39m#  the TypeError.\u001b[39;00m\n\u001b[0;32m   3628\u001b[0m     \u001b[39mself\u001b[39m\u001b[39m.\u001b[39m_check_indexing_error(key)\n",
      "\u001b[1;31mKeyError\u001b[0m: 3"
     ]
    }
   ],
   "source": [
    "df[df['Name'] == 'Hoang Trung Kien']"
   ]
  },
  {
   "cell_type": "code",
   "execution_count": 41,
   "metadata": {},
   "outputs": [
    {
     "data": {
      "text/plain": [
       "12"
      ]
     },
     "execution_count": 41,
     "metadata": {},
     "output_type": "execute_result"
    }
   ],
   "source": [
    "df[df['Name'] == 'Hoang Trung Kien'].index.values[0]"
   ]
  },
  {
   "cell_type": "code",
   "execution_count": 14,
   "metadata": {},
   "outputs": [
    {
     "data": {
      "text/plain": [
       "'23-03-23'"
      ]
     },
     "execution_count": 14,
     "metadata": {},
     "output_type": "execute_result"
    }
   ],
   "source": [
    "from datetime import datetime\n",
    "\n",
    "datetime.today().date().strftime('%d-%m-%y')"
   ]
  }
 ],
 "metadata": {
  "kernelspec": {
   "display_name": "base",
   "language": "python",
   "name": "python3"
  },
  "language_info": {
   "codemirror_mode": {
    "name": "ipython",
    "version": 3
   },
   "file_extension": ".py",
   "mimetype": "text/x-python",
   "name": "python",
   "nbconvert_exporter": "python",
   "pygments_lexer": "ipython3",
   "version": "3.9.12"
  },
  "orig_nbformat": 4
 },
 "nbformat": 4,
 "nbformat_minor": 2
}
